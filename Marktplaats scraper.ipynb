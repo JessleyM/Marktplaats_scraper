{
 "cells": [
  {
   "cell_type": "markdown",
   "metadata": {},
   "source": [
    "# Marktplaats web scraper voor tweedehands autos"
   ]
  },
  {
   "cell_type": "code",
   "execution_count": 9,
   "metadata": {},
   "outputs": [],
   "source": [
    "import requests\n",
    "from bs4 import BeautifulSoup\n",
    "import pandas as pd\n",
    "\n",
    "import datetime\n",
    "\n",
    "today = datetime.date.today()\n",
    "year_current = today.year  # huidig jaar"
   ]
  },
  {
   "cell_type": "markdown",
   "metadata": {},
   "source": [
    "## 1. Create URL Link to scrape\n",
    "link should also edited to search correct product category and filters"
   ]
  },
  {
   "cell_type": "markdown",
   "metadata": {},
   "source": [
    "### URL link base format\n",
    "\n",
    "don't edit unless URL characteristics of marktplaats.nl itself changes."
   ]
  },
  {
   "cell_type": "code",
   "execution_count": 10,
   "metadata": {},
   "outputs": [],
   "source": [
    "# URL host\n",
    "URL_host = \"https://www.marktplaats.nl/\" \n",
    "\n",
    "# URL path should be expanded with following filters\n",
    "URL_p_prijs_min = \"PriceCentsFrom:{prijs}|\"  # minimumprijs euros\n",
    "URL_p_prijs_max = \"PriceCentsTo:{prijs}|\"  # maximum prijs euros\n",
    "URL_p_bouwjaar_oudst = \"constructionYearFrom:{bouwjaar}|\" \n",
    "URL_p_bouwjaar_nieuwst = \"constructionYearTo:{bouwjaar}|\"\n",
    "URL_p_km_stand_min = \"mileageFrom:{km_stand}|\"\n",
    "URL_p_km_stand_max = \"mileageTo:{km_stand}|\"\n",
    "\n",
    "url_path_list =[URL_p_prijs_min, URL_p_prijs_max, \n",
    "                URL_p_bouwjaar_oudst, URL_p_bouwjaar_nieuwst, \n",
    "                URL_p_km_stand_min, URL_p_km_stand_max]"
   ]
  },
  {
   "cell_type": "markdown",
   "metadata": {},
   "source": [
    "### Functions"
   ]
  },
  {
   "cell_type": "markdown",
   "metadata": {},
   "source": [
    "#### 1. For the URL link, create strings to append the URL path"
   ]
  },
  {
   "cell_type": "code",
   "execution_count": 11,
   "metadata": {},
   "outputs": [],
   "source": [
    "\n",
    "def URL_path_format_filters(prijs_min=0, prijs_max=100_000, \n",
    "                           bouwjaar_oudst=1900, bouwjaar_nieuwst=year_current, \n",
    "                           km_stand_min=0, km_stand_max=1_000_000):\n",
    "    \n",
    "    global  URL_p_prijs_min, URL_p_prijs_max, URL_p_bouwjaar_oudst, URL_p_bouwjaar_nieuwst, URL_p_km_stand_min, URL_p_km_stand_max\n",
    "    \n",
    "    # format the URL path filters\n",
    "    URL_p_prijs_min = URL_p_prijs_min.format(prijs = prijs_min*100)  # *100 to convert to cents\n",
    "    URL_p_prijs_max = URL_p_prijs_max.format(prijs = prijs_max*100)\n",
    "    URL_p_bouwjaar_oudst = URL_p_bouwjaar_oudst.format(bouwjaar = bouwjaar_oudst)\n",
    "    URL_p_bouwjaar_nieuwst = URL_p_bouwjaar_nieuwst.format(bouwjaar = bouwjaar_nieuwst)\n",
    "    URL_p_km_stand_min = URL_p_km_stand_min.format(km_stand = km_stand_min)\n",
    "    URL_p_km_stand_max = URL_p_km_stand_max.format(km_stand = km_stand_max)\n",
    "    \n",
    "    # create single string for the path URL\n",
    "    formatted_filters = URL_p_prijs_min+URL_p_prijs_max+URL_p_bouwjaar_oudst+URL_p_bouwjaar_nieuwst+URL_p_km_stand_min+URL_p_km_stand_max\n",
    "\n",
    "    return formatted_filters\n",
    "\n",
    "# return url path gedeelte mbt. adverteerders type\n",
    "def url_path_adverteerder(particulier=None, bedrijf=None):\n",
    "    url_path_part =  'f:10898|'  # gedeelte url-path particulier\n",
    "    url_path_bed = 'f:10899|'  # bedrijf\n",
    "    if particulier==True and not bedrijf==True:\n",
    "        return url_path_part\n",
    "    elif bedrijf==True and not particulier==True:\n",
    "        return url_path_bed\n",
    "    else: \n",
    "        return None\n",
    "\n",
    "# return  url path gedeelte mbt. tekstquery\n",
    "def url_path_query(string):\n",
    "    string = string.replace(\" \", \"+\")\n",
    "    if string ==\"\":\n",
    "        return string\n",
    "    else:\n",
    "        subpath = \"q:{text}|\".format(text=string)\n",
    "        return subpath"
   ]
  },
  {
   "cell_type": "markdown",
   "metadata": {},
   "source": [
    "#### 2. Create final URL depending on page"
   ]
  },
  {
   "cell_type": "code",
   "execution_count": 12,
   "metadata": {},
   "outputs": [],
   "source": [
    "def URL_link_per_page(pageNum):\n",
    "    global URL_host, URL_p_category, prefix, url_p_query, url_p_adverteerder, url_p_base_filters\n",
    "    \n",
    "    if pageNum <=1:\n",
    "        URL_finalized = URL_host+URL_p_category+ prefix+url_p_query+url_p_adverteerder+url_p_base_filters\n",
    "        return URL_finalized\n",
    "    else:\n",
    "        page_URL_subPath = \"p/{page}/\".format(page = pageNum)\n",
    "        URL_finalized = URL_host+URL_p_category+ page_URL_subPath+ prefix+url_p_query+url_p_adverteerder+url_p_base_filters\n",
    "    \n",
    "    return URL_finalized"
   ]
  },
  {
   "cell_type": "markdown",
   "metadata": {},
   "source": [
    "### Tweak manually for search\n",
    "handmatig aanpassen afhankelijk van wat u wilt zoeken"
   ]
  },
  {
   "cell_type": "code",
   "execution_count": 13,
   "metadata": {},
   "outputs": [],
   "source": [
    "url_p_base_filters = URL_path_format_filters(prijs_max=20_000, bouwjaar_nieuwst=2005, km_stand_max=400_000)\n",
    "\n",
    "url_p_adverteerder = url_path_adverteerder(particulier=True)\n",
    "\n",
    "# query die je als tekst moet typen in het 'zoekvak' (string vorm)\n",
    "# hou het als empty string \"\" als je niks wilt.\n",
    "url_p_query = url_path_query(\"Toyota Prius\")\n",
    "\n",
    "# URL host should be expanded with the following path\n",
    "URL_p_category = \"l/auto-s/\"  # zoek per categorie \"autos\"\n",
    "\n"
   ]
  },
  {
   "cell_type": "markdown",
   "metadata": {},
   "source": [
    "### Create URL link to the correct filtered website"
   ]
  },
  {
   "cell_type": "code",
   "execution_count": 14,
   "metadata": {},
   "outputs": [],
   "source": [
    "prefix = \"#\"  # prefix needed before formatting\n"
   ]
  },
  {
   "cell_type": "code",
   "execution_count": 15,
   "metadata": {},
   "outputs": [
    {
     "name": "stdout",
     "output_type": "stream",
     "text": [
      "https://www.marktplaats.nl/l/auto-s/p/5/#q:Toyota+Prius|f:10898|PriceCentsFrom:0|PriceCentsTo:2000000|constructionYearFrom:1900|constructionYearTo:2005|mileageFrom:0|mileageTo:400000|\n"
     ]
    }
   ],
   "source": [
    "# create URL link\n",
    "URL_finalized = URL_link_per_page(5)\n",
    "print(URL_finalized)\n",
    "    "
   ]
  },
  {
   "cell_type": "markdown",
   "metadata": {},
   "source": [
    "## 2. Scraper"
   ]
  },
  {
   "cell_type": "code",
   "execution_count": 16,
   "metadata": {},
   "outputs": [
    {
     "ename": "NameError",
     "evalue": "name 'URL' is not defined",
     "output_type": "error",
     "traceback": [
      "\u001b[1;31m---------------------------------------------------------------------------\u001b[0m",
      "\u001b[1;31mNameError\u001b[0m                                 Traceback (most recent call last)",
      "\u001b[1;32m<ipython-input-16-088f5cf97c25>\u001b[0m in \u001b[0;36m<module>\u001b[1;34m\u001b[0m\n\u001b[1;32m----> 1\u001b[1;33m \u001b[0mresult\u001b[0m \u001b[1;33m=\u001b[0m \u001b[0mrequests\u001b[0m\u001b[1;33m.\u001b[0m\u001b[0mget\u001b[0m\u001b[1;33m(\u001b[0m\u001b[0mURL\u001b[0m\u001b[1;33m)\u001b[0m\u001b[1;33m\u001b[0m\u001b[1;33m\u001b[0m\u001b[0m\n\u001b[0m\u001b[0;32m      2\u001b[0m \u001b[0msoup\u001b[0m \u001b[1;33m=\u001b[0m \u001b[0mBeautifulSoup\u001b[0m\u001b[1;33m(\u001b[0m\u001b[0mresult\u001b[0m\u001b[1;33m.\u001b[0m\u001b[0mtext\u001b[0m\u001b[1;33m,\u001b[0m \u001b[1;34m'html.parser'\u001b[0m\u001b[1;33m)\u001b[0m \u001b[1;31m# If this line causes an error, run 'pip install html5lib' or install html5lib\u001b[0m\u001b[1;33m\u001b[0m\u001b[1;33m\u001b[0m\u001b[0m\n\u001b[0;32m      3\u001b[0m \u001b[1;33m\u001b[0m\u001b[0m\n\u001b[0;32m      4\u001b[0m \u001b[0mmatch\u001b[0m \u001b[1;33m=\u001b[0m \u001b[0msoup\u001b[0m\u001b[1;33m.\u001b[0m\u001b[0mfind\u001b[0m\u001b[1;33m(\u001b[0m\u001b[1;34m'span'\u001b[0m\u001b[1;33m,\u001b[0m \u001b[0mclass_\u001b[0m\u001b[1;33m=\u001b[0m\u001b[1;34m'mw-page-title-main'\u001b[0m\u001b[1;33m)\u001b[0m\u001b[1;33m\u001b[0m\u001b[1;33m\u001b[0m\u001b[0m\n\u001b[0;32m      5\u001b[0m \u001b[0mprint\u001b[0m\u001b[1;33m(\u001b[0m\u001b[0mmatch\u001b[0m\u001b[1;33m.\u001b[0m\u001b[0mtext\u001b[0m\u001b[1;33m)\u001b[0m\u001b[1;33m\u001b[0m\u001b[1;33m\u001b[0m\u001b[0m\n",
      "\u001b[1;31mNameError\u001b[0m: name 'URL' is not defined"
     ]
    }
   ],
   "source": [
    "\n",
    "result = requests.get(URL)\n",
    "soup = BeautifulSoup(result.text, 'html.parser') # If this line causes an error, run 'pip install html5lib' or install html5lib\n",
    "\n",
    "match = soup.find('span', class_='mw-page-title-main')\n",
    "print(match.text)\n",
    "\n",
    "\n"
   ]
  },
  {
   "cell_type": "code",
   "execution_count": null,
   "metadata": {},
   "outputs": [],
   "source": [
    "\n"
   ]
  },
  {
   "cell_type": "code",
   "execution_count": null,
   "metadata": {},
   "outputs": [],
   "source": []
  },
  {
   "cell_type": "code",
   "execution_count": null,
   "metadata": {},
   "outputs": [],
   "source": [
    "\n"
   ]
  }
 ],
 "metadata": {
  "kernelspec": {
   "display_name": "Python 3",
   "language": "python",
   "name": "python3"
  },
  "language_info": {
   "codemirror_mode": {
    "name": "ipython",
    "version": 3
   },
   "file_extension": ".py",
   "mimetype": "text/x-python",
   "name": "python",
   "nbconvert_exporter": "python",
   "pygments_lexer": "ipython3",
   "version": "3.9.0"
  }
 },
 "nbformat": 4,
 "nbformat_minor": 4
}
